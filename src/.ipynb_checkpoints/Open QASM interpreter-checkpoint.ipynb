{
 "cells": [
  {
   "cell_type": "markdown",
   "id": "2097bbd6",
   "metadata": {},
   "source": [
    "# OPENQASM 3.0 interpreter to Qiskit QuantumCircuit() object"
   ]
  },
  {
   "cell_type": "markdown",
   "id": "5d29501a",
   "metadata": {},
   "source": [
    "## Import libraries"
   ]
  },
  {
   "cell_type": "code",
   "execution_count": 23,
   "id": "513565cf",
   "metadata": {},
   "outputs": [],
   "source": [
    "import numpy as np\n",
    "import struct\n",
    "import re"
   ]
  },
  {
   "cell_type": "code",
   "execution_count": 24,
   "id": "e7d98edc",
   "metadata": {},
   "outputs": [],
   "source": [
    "import qiskit\n",
    "from qiskit import *"
   ]
  },
  {
   "cell_type": "markdown",
   "id": "c285267e",
   "metadata": {},
   "source": [
    "## Regex"
   ]
  },
  {
   "cell_type": "markdown",
   "id": "dcb52269",
   "metadata": {},
   "source": [
    "### Checking the structure of each line of the code"
   ]
  },
  {
   "cell_type": "markdown",
   "id": "5e63ed08",
   "metadata": {},
   "source": [
    "In this project, I will use regex to check the structure and syntax of each line of the QASM file. There are many kinds of structure for the QASM so I will identify it into 8 groups."
   ]
  },
  {
   "cell_type": "markdown",
   "id": "2671c8bb",
   "metadata": {},
   "source": [
    "####   Variables identifier belong to \n",
    "From https://qiskit.github.io/openqasm/language/types.html, variable identifier can only belong to these groups below with underscore. \n",
    "   * Lu (letter uppercase)\n",
    "   * Ll (Letter lowercase)\n",
    "   * Lt (Letter titlecase)\n",
    "   * Lm (Letter modifier)\n",
    "   * Lo (Letter Other)\n",
    "   * Nl (Number Letter)"
   ]
  },
  {
   "cell_type": "code",
   "execution_count": 25,
   "id": "f24aee25",
   "metadata": {},
   "outputs": [],
   "source": [
    "declare_variable          = \"^( *)(float)\\[\\d+\\]( +)([A-Za-z0-9_])+( *);( *)$\"\n",
    "initiate_variable         = \"^( *)((float)\\[\\d+\\])*( +)*([A-Za-z0-9_])+( *)=( *)(([+-]?([0-9]*[.])?[0-9]+)|pi)( *);( *)$\"\n",
    "checking_declare_variable = \"^( *)(qubit)( +)([A-Za-z0-9_])+( *);( *)$\"\n",
    "checking_declare_qreg     = \"^( *)(qubit)\\[(\\d)+\\]( +)([A-Za-z0-9_])+( *);( *)$\"\n",
    "checking_1qubit_gate      = \"^( *)(x|y|z|h|s|sdg|t|tdg)( +)(([A-Za-z0-9_])+|([A-Za-z0-9_])+\\[(\\d)+\\])( *);( *)$\"\n",
    "checking_1qubit_gate_para = \"^( *)(rx|ry|rz)\\(.+\\)( +)(([A-Za-z0-9_])+|([A-Za-z0-9_])+\\[(\\d)+\\])( *);( *)$\"\n",
    "checking_2qubits_gate     = \"^( *)(cx|swap)( +)(([A-Za-z0-9_])+|([A-Za-z0-9_])+\\[(\\d)+\\])( *),( *)(([A-Za-z0-9_])+|([A-Za-z0-9_])+\\[(\\d)+\\])( *);( *)$\"\n",
    "checking_3qubits_gate     = \"^( *)(ccx|cswap)( +)(([A-Za-z0-9_])+|([A-Za-z0-9_])+\\[(\\d)+\\])( *),( *)(([A-Za-z0-9_])+|([A-Za-z0-9_])+\\[(\\d)+\\])( *),( *)(([A-Za-z0-9_])+|([A-Za-z0-9_])+\\[(\\d)+\\])( *);( *)$\"\n",
    "checking_float            = \"^[+-]?([0-9]*[.])?[0-9]+$\"\n",
    "accepted_char =\"[A-Za-z0-9]\""
   ]
  },
  {
   "cell_type": "code",
   "execution_count": 26,
   "id": "b42c642d",
   "metadata": {},
   "outputs": [],
   "source": [
    "def syntax_checking(x):\n",
    "    if(re.match(checking_declare_variable, x)):   return 0\n",
    "    elif(re.match(checking_declare_qreg, x)):     return 1\n",
    "    elif(re.match(checking_1qubit_gate, x)):      return 2\n",
    "    elif(re.match(checking_1qubit_gate_para, x)): return 3\n",
    "    elif(re.match(checking_2qubits_gate, x)):     return 4\n",
    "    elif(re.match(checking_3qubits_gate, x)):     return 5\n",
    "    elif(re.match(declare_variable, x)):          return 6\n",
    "    elif(re.match(initiate_variable, x)):         return 7\n",
    "    else: return 8"
   ]
  },
  {
   "cell_type": "code",
   "execution_count": 27,
   "id": "9dc6fa08",
   "metadata": {},
   "outputs": [],
   "source": [
    "#From floating point number to binary -> checking for the size\n",
    "def binary(num):\n",
    "    num = float(num)\n",
    "    return ''.join('{:0>8b}'.format(c) for c in struct.pack('!f', num))"
   ]
  },
  {
   "cell_type": "code",
   "execution_count": 28,
   "id": "db48e1ab",
   "metadata": {},
   "outputs": [
    {
     "data": {
      "text/plain": [
       "32"
      ]
     },
     "execution_count": 28,
     "metadata": {},
     "output_type": "execute_result"
    }
   ],
   "source": [
    "len(binary(33333333))"
   ]
  },
  {
   "cell_type": "markdown",
   "id": "054f4533",
   "metadata": {},
   "source": [
    "## Errors "
   ]
  },
  {
   "cell_type": "markdown",
   "id": "77f3a120",
   "metadata": {},
   "source": [
    "This Error class help us to return errors (Due to limited time, this errors class is not completed yet)"
   ]
  },
  {
   "cell_type": "code",
   "execution_count": 22,
   "id": "a15db976",
   "metadata": {},
   "outputs": [],
   "source": [
    "#######################################\n",
    "# ERRORS\n",
    "#######################################\n",
    "\n",
    "class Error:\n",
    "    def __init__(self, ln, error_name):\n",
    "        self.ln = ln\n",
    "        self.error_name = error_name\n",
    "    \n",
    "    def as_string(self):\n",
    "        result  = f'Error: {self.error_name}\\n'\n",
    "        return result\n",
    "\n",
    "class IllegalCharError(Error):\n",
    "    def __init__(self,detail):\n",
    "        super().__init__('Wrong QASM ',detail)"
   ]
  },
  {
   "cell_type": "markdown",
   "id": "8ae398ca",
   "metadata": {},
   "source": [
    "## Lexer "
   ]
  },
  {
   "cell_type": "markdown",
   "id": "59f5a632",
   "metadata": {},
   "source": [
    "Lexer class break a line of code into predefined token which can help ignoring space and filter out all unused components"
   ]
  },
  {
   "cell_type": "code",
   "execution_count": 29,
   "id": "f768e751",
   "metadata": {},
   "outputs": [],
   "source": [
    "#######################################\n",
    "# LEXER\n",
    "#######################################\n",
    "\n",
    "class Lexer:\n",
    "    def __init__(self, text, mode):\n",
    "        self.text = text\n",
    "        self.mode = mode\n",
    "        self.pos = -1\n",
    "        self.current_char = None\n",
    "        self.advance()\n",
    "    def advance(self):\n",
    "        self.pos += 1\n",
    "        self.current_char = self.text[self.pos] if self.pos < len(self.text) else None\n",
    "    def backward(self):\n",
    "        self.pos -= 1\n",
    "        self.current_char = self.text[self.pos] if self.pos >= 0 else None\n",
    "    \n",
    "    # Create the list of tokens by going thourgh each char, when a digit or normal char is met, create_token is called.\n",
    "    def make_tokens(self):\n",
    "        tokens = []\n",
    "        while self.current_char != None:\n",
    "            if self.current_char in ' \\t':\n",
    "                self.advance() \n",
    "            elif ((self.current_char).isalnum() == False):\n",
    "                x = self.current_char\n",
    "                if(x == '_'):\n",
    "                    token = self.create_token()\n",
    "                    if(token != ''):\n",
    "                        if(token == 'pi'):\n",
    "                            token = str(np.pi)\n",
    "                            tokens.append(token)\n",
    "                            self.advance()\n",
    "                        else:\n",
    "                            tokens.append(token)\n",
    "                            self.advance()\n",
    "                    else:\n",
    "                        self.advance()                    \n",
    "                else:\n",
    "                    tokens.append(x)\n",
    "                    self.advance()\n",
    "            else:\n",
    "                token = self.create_token()\n",
    "                #print(x)\n",
    "                if(token != ''):\n",
    "                    if(token == 'pi'):\n",
    "                        token = str(np.pi)\n",
    "                        tokens.append(token)\n",
    "                        self.advance()\n",
    "                    else:\n",
    "                        tokens.append(token)\n",
    "                        self.advance()\n",
    "                else:\n",
    "                    self.advance()\n",
    "        return tokens, None\n",
    "    \n",
    "    #This function is used to create a token then return it to make_tokens, it will go thourgh a cluster of chars until meeting invalid char or space.\n",
    "    def create_token(self):\n",
    "        string =''\n",
    "        while self.current_char != None:\n",
    "            if self.current_char in' \\t': return string\n",
    "            elif ((self.current_char).isalnum() == False):\n",
    "                if(self.current_char == '_'):\n",
    "                    string += self.current_char\n",
    "                    self.advance()\n",
    "                else:\n",
    "                    self.backward()\n",
    "                    return string\n",
    "            else:\n",
    "                if(self.current_char == \"π\"):\n",
    "                    string += str(np.pi)\n",
    "                else:\n",
    "                    string += self.current_char\n",
    "                self.advance()\n",
    "        return string\n",
    "        \n",
    "#######################################\n",
    "# RUN LESSER\n",
    "#######################################\n",
    "\n",
    "# Help translating Rx(pi/2) into Rx(1.570796327)\n",
    "def calculate_param(tokens):\n",
    "    start_index = 1\n",
    "    while(1):\n",
    "        if((tokens[start_index] == '(') & (tokens[start_index+2] != ')') & (tokens[start_index+1] != '-')):\n",
    "            if(tokens[start_index+2] == '+'):\n",
    "                tokens[start_index+1] = float(tokens[start_index+1]) +  float(tokens[start_index+3])\n",
    "            elif(tokens[start_index+2] == '-'):\n",
    "                tokens[start_index+1] = float(tokens[start_index+1]) -  float(tokens[start_index+3])\n",
    "            elif(tokens[start_index+2] == '*'):\n",
    "                tokens[start_index+1] = float(tokens[start_index+1]) *  float(tokens[start_index+3])\n",
    "            elif(tokens[start_index+2] == '/'):\n",
    "                if(float(tokens[start_index+3]) == 0):\n",
    "                    return None\n",
    "                tokens[start_index+1] = float(tokens[start_index+1]) /  float(tokens[start_index+3])\n",
    "            tokens.pop(3)\n",
    "            tokens.pop(3)\n",
    "            break\n",
    "        else:\n",
    "            break\n",
    "    return tokens\n",
    "\n",
    "#This function run the whole Lesser class\n",
    "def run_lexer( text, mode):\n",
    "    if(mode == 8):\n",
    "        return [],IllegalCharError('syntax')\n",
    "    lexer = Lexer(text, mode)\n",
    "    tokens, error = lexer.make_tokens()\n",
    "    if(mode == 3):\n",
    "        tokens = calculate_param(tokens)\n",
    "    return tokens, error"
   ]
  },
  {
   "cell_type": "code",
   "execution_count": 30,
   "id": "89a6c2e8",
   "metadata": {},
   "outputs": [
    {
     "data": {
      "text/plain": [
       "['qubit', 'bit_1', ';']"
      ]
     },
     "execution_count": 30,
     "metadata": {},
     "output_type": "execute_result"
    }
   ],
   "source": [
    "# Example using Lesser\n",
    "\n",
    "#text = \"rx(-10) input;\"\n",
    "text = \"qubit bit_1;\"\n",
    "mode = syntax_checking(text)\n",
    "tokens, error = run_lexer(text,mode)\n",
    "tokens"
   ]
  },
  {
   "cell_type": "markdown",
   "id": "40db2976",
   "metadata": {},
   "source": [
    "## Interpreter"
   ]
  },
  {
   "cell_type": "markdown",
   "id": "6944d65c",
   "metadata": {},
   "source": [
    "Interpreter is use to process the tokens which are created from the leser above.\n",
    "\n",
    "* In this project, I only handle two kinds of variable which is qubit and float types. I create a global variable which has the same name of the variable declare in the code using ***globals()['variable_name']***.\n",
    "* For the inverse quantum circuit, when creating the quantum ciruit and using gate_sequence to create a list of quantum instruction then I will create inverse quantum circuit by going backward the list and apply the gate but change only $rx/ry/rz(theta)$ to $rx/ry/rz(-theta)$ as others gates has the transpose conjugate is itself. "
   ]
  },
  {
   "cell_type": "code",
   "execution_count": 35,
   "id": "bf0ecb4e",
   "metadata": {},
   "outputs": [],
   "source": [
    "#######################################\n",
    "# INTERPRETER\n",
    "#######################################\n",
    "\n",
    "class interpreter:\n",
    "    def __init__(self, total_tokens):\n",
    "        self.total_tokens = total_tokens\n",
    "        self.number_of_var = 0\n",
    "        self.VARIABLE = {}\n",
    "        self.NORMAL_VARIABLE = {}\n",
    "        self.quantum_circuit = None\n",
    "        self.inverse_quantum_circuit = None\n",
    "        self.error = None\n",
    "        self.gate_sequence = []\n",
    "        \n",
    "    def create_quantum_circuit(self):\n",
    "        name_qreg = []\n",
    "        x = self.VARIABLE.keys()\n",
    "        for i in range (len(x)):\n",
    "            name_qreg += (globals()[list(x)[i]])\n",
    "        self.quantum_circuit = QuantumCircuit(name_qreg)\n",
    "        \n",
    "    def create_inverse_quantum_circuit(self):\n",
    "        name_qreg = []\n",
    "        x = self.VARIABLE.keys()\n",
    "        for i in range (len(x)):\n",
    "            name_qreg += (globals()[list(x)[i]])\n",
    "        self.inverse_quantum_circuit = QuantumCircuit(name_qreg)\n",
    "        \n",
    "    def implement_onequibt_gate(self, gate, qreg, index):\n",
    "        if(gate == 'x'):\n",
    "            self.quantum_circuit.x(qreg[index])\n",
    "        elif(gate == 'y'):\n",
    "            self.quantum_circuit.y(qreg[index])\n",
    "        elif(gate == 'z'):\n",
    "            self.quantum_circuit.z(qreg[index])\n",
    "        elif(gate == 'h'):\n",
    "            self.quantum_circuit.h(qreg[index])\n",
    "        elif(gate == 's'):\n",
    "            self.quantum_circuit.s(qreg[index])\n",
    "        elif(gate == 'sdg'):\n",
    "            self.quantum_circuit.sdg(qreg[index])\n",
    "        elif(gate == 't'):\n",
    "            self.quantum_circuit.t(qreg[index])\n",
    "        elif(gate == 'tdg'):\n",
    "            self.quantum_circuit.tdg(qreg[index])\n",
    "            \n",
    "    def implement_onequibt_paramgate(self, gate, param, qreg, index):\n",
    "        #print(param)\n",
    "        if(gate == 'rx'):\n",
    "            self.quantum_circuit.rx(param,qreg[index]) \n",
    "        elif(gate == 'ry'): \n",
    "            self.quantum_circuit.ry(param,qreg[index])\n",
    "        elif(gate == 'rz'):\n",
    "            self.quantum_circuit.rz(param,qreg[index])\n",
    "            \n",
    "    def implement_twoquibt_gate(self, gate, qreg1, index1, qreg2, index2):\n",
    "        if(gate == 'cx'):\n",
    "            self.quantum_circuit.cx(qreg1[index1],qreg2[index2]) \n",
    "        elif(gate == 'swap'):\n",
    "            self.quantum_circuit.swap(qreg1[index1],qreg2[index2]) \n",
    "        \n",
    "    def implement_threequibt_gate(self, gate, qreg1, index1, qreg2, index2, qreg3, index3):\n",
    "        if(gate == 'ccx'):\n",
    "            self.quantum_circuit.ccx(qreg1[index1],qreg2[index2],qreg3[index3]) \n",
    "        elif(gate == 'cswap'):\n",
    "            self.quantum_circuit.cswap(qreg1[index1],qreg2[index2],qreg3[index3])\n",
    "    \n",
    "    # Create inverse_quantum_circuit\n",
    "    def implement_inverse_quantum_circuit(self):\n",
    "        if(self.quantum_circuit != None):\n",
    "            self.create_inverse_quantum_circuit()\n",
    "            i = len(self.gate_sequence)-1\n",
    "            while(i >= 0):\n",
    "                gate = self.gate_sequence[i][0]\n",
    "                if(gate == 'x'): self.inverse_quantum_circuit.x(globals()[self.gate_sequence[i][1]][int(self.gate_sequence[i][2])])\n",
    "                elif(gate == 'y'): self.inverse_quantum_circuit.y(globals()[self.gate_sequence[i][1]][int(self.gate_sequence[i][2])])\n",
    "                elif(gate == 'z'): self.inverse_quantum_circuit.z(globals()[self.gate_sequence[i][1]][int(self.gate_sequence[i][2])])\n",
    "                elif(gate == 'h'): self.inverse_quantum_circuit.h(globals()[self.gate_sequence[i][1]][int(self.gate_sequence[i][2])])\n",
    "                elif(gate == 's'): self.inverse_quantum_circuit.sdg(globals()[self.gate_sequence[i][1]][int(self.gate_sequence[i][2])])\n",
    "                elif(gate == 'sdg'): self.inverse_quantum_circuit.s(globals()[self.gate_sequence[i][1]][int(self.gate_sequence[i][2])])\n",
    "                elif(gate == 't'): self.inverse_quantum_circuit.tdg(globals()[self.gate_sequence[i][1]][int(self.gate_sequence[i][2])])\n",
    "                elif(gate == 'tdg'): self.inverse_quantum_circuit.t(globals()[self.gate_sequence[i][1]][int(self.gate_sequence[i][2])])\n",
    "                elif(gate == 'rx'): self.inverse_quantum_circuit.rx(float(self.gate_sequence[i][1])*(-1),globals()[self.gate_sequence[i][2]][int(self.gate_sequence[i][3])])\n",
    "                elif(gate == 'ry'): self.inverse_quantum_circuit.ry(float(self.gate_sequence[i][1])*(-1),globals()[self.gate_sequence[i][2]][int(self.gate_sequence[i][3])])\n",
    "                elif(gate == 'rz'): self.inverse_quantum_circuit.rz(float(self.gate_sequence[i][1])*(-1),globals()[self.gate_sequence[i][2]][int(self.gate_sequence[i][3])])\n",
    "                elif(gate == 'cx'): self.inverse_quantum_circuit.cx(globals()[self.gate_sequence[i][1]][int(self.gate_sequence[i][2])],globals()[self.gate_sequence[i][3]][int(self.gate_sequence[i][4])])\n",
    "                elif(gate == 'swap'): self.inverse_quantum_circuit.swap(globals()[self.gate_sequence[i][1]][int(self.gate_sequence[i][2])],globals()[self.gate_sequence[i][3]][int(self.gate_sequence[i][4])])\n",
    "                elif(gate == 'ccx'): self.inverse_quantum_circuit.ccx(globals()[self.gate_sequence[i][1]][int(self.gate_sequence[i][2])],globals()[self.gate_sequence[i][3]][int(self.gate_sequence[i][4])],globals()[self.gate_sequence[i][5]][int(self.gate_sequence[i][6])])\n",
    "                elif(gate == 'cswap'): self.inverse_quantum_circuit.cswap(globals()[self.gate_sequence[i][1]][int(self.gate_sequence[i][2])],globals()[self.gate_sequence[i][3]][int(self.gate_sequence[i][4])],globals()[self.gate_sequence[i][5]][int(self.gate_sequence[i][6])])\n",
    "                i -=1\n",
    "    \n",
    "#######################################\n",
    "# Running INTERPRETER\n",
    "#######################################\n",
    "    def process(self):\n",
    "        for counter in range (len(total_tokens)):\n",
    "            if(self.error != None):\n",
    "                break\n",
    "            elif(total_tokens[counter][0] == 'float'):\n",
    "                self.NORMAL_VARIABLE[str(total_tokens[counter][4])] = total_tokens[counter][2]\n",
    "                if(total_tokens[counter][5] == '='):\n",
    "                    if(total_tokens[counter][6] == '-'):\n",
    "                        total_tokens[counter][6] = str(float(total_tokens[counter][6])*(-1))\n",
    "                        total_tokens[counter].pop(7)\n",
    "                    if(int(total_tokens[counter][2]) >= len(binary(total_tokens[counter][6]))): #Check number of bit of the number with the declared size\n",
    "                        globals()[str(total_tokens[counter][4])] = float(total_tokens[counter][6])\n",
    "                        \n",
    "            elif(total_tokens[counter][0] in self.NORMAL_VARIABLE.keys()):\n",
    "                if(total_tokens[counter][1] == '='):\n",
    "                    if(total_tokens[counter][2] == '-'):\n",
    "                        total_tokens[counter][2] = str(float(total_tokens[counter][3])*(-1))\n",
    "                        total_tokens[counter].pop(3)\n",
    "                    if(int(self.NORMAL_VARIABLE[total_tokens[counter][0]]) >= len(binary(total_tokens[counter][2]))): #Check number of bit of the number with the declared size\n",
    "                         globals()[str(total_tokens[counter][0])] = float(total_tokens[counter][2])\n",
    "                        \n",
    "            elif(total_tokens[counter][0] == 'qubit'): # Declare variable\n",
    "                if(total_tokens[counter][1] =='['):\n",
    "                    self.VARIABLE[str(total_tokens[counter][4])] = total_tokens[counter][2]\n",
    "                    globals()[str(total_tokens[counter][4])] = QuantumRegister(int(total_tokens[counter][2]),str(total_tokens[counter][4]))\n",
    "                    self.number_of_var += 1\n",
    "                else:\n",
    "                    self.VARIABLE[str(total_tokens[counter][1])] = 1 \n",
    "                    globals()[str(total_tokens[counter][1])] = QuantumRegister(1,str(total_tokens[counter][1]))\n",
    "                    self.number_of_var += 1\n",
    "                    \n",
    "            elif((total_tokens[counter][0] == 'x') | (total_tokens[counter][0] == 'y') | (total_tokens[counter][0] == 'z') | (total_tokens[counter][0] == 'h') |( total_tokens[counter][0] == 's') | (total_tokens[counter][0] == 'sdg') | (total_tokens[counter][0] == 't') | (total_tokens[counter][0] == 'tdg')): # X gate\n",
    "                if(self.quantum_circuit == None):\n",
    "                    self.create_quantum_circuit()\n",
    "                if(total_tokens[counter][2] == '['):\n",
    "                    index = int(total_tokens[counter][3])\n",
    "                    if(index >= int(self.VARIABLE[total_tokens[counter][1]])):\n",
    "                        self.error = IllegalCharError('index out of bound')\n",
    "                    else:\n",
    "                        self.implement_onequibt_gate(total_tokens[counter][0],(globals()[total_tokens[counter][1]]),index)\n",
    "                        self.gate_sequence.append([total_tokens[counter][0], total_tokens[counter][1], index])\n",
    "                else:\n",
    "                    index = 0\n",
    "                    self.implement_onequibt_gate(total_tokens[counter][0],(globals()[total_tokens[counter][1]]),index)\n",
    "                    self.gate_sequence.append([total_tokens[counter][0], total_tokens[counter][1], index])\n",
    "                    \n",
    "            elif((total_tokens[counter][0] == 'rx') | (total_tokens[counter][0] == 'ry') | (total_tokens[counter][0] == 'rz')):\n",
    "                if(self.quantum_circuit == None):\n",
    "                    self.create_quantum_circuit()\n",
    "                    \n",
    "                if(total_tokens[counter][2] != '-'):\n",
    "                    if(re.match(checking_float, total_tokens[counter][2])):\n",
    "                        param = float(total_tokens[counter][2])\n",
    "                    elif(total_tokens[counter][2] in self.NORMAL_VARIABLE.keys()):\n",
    "                        param = float(globals()[total_tokens[counter][2]])\n",
    "                else:\n",
    "                    if(re.match(checking_float, total_tokens[counter][3])):\n",
    "                        total_tokens[counter][3] = str(float(total_tokens[counter][3])*(-1.0))\n",
    "                        total_tokens[counter].pop(2)\n",
    "                        param = float(total_tokens[counter][2])\n",
    "                    elif(total_tokens[counter][3] in self.NORMAL_VARIABLE.keys()):\n",
    "                        total_tokens[counter][3] = str(float(globals()[total_tokens[counter][3]])*(-1.0))\n",
    "                        total_tokens[counter].pop(2)\n",
    "                        param = float(total_tokens[counter][2])        \n",
    "                if(total_tokens[counter][5] == '['):\n",
    "                    index = int(total_tokens[counter][6])\n",
    "                    if(index >= int(self.VARIABLE[total_tokens[counter][4]])):\n",
    "                        self.error = IllegalCharError('index out of bound')\n",
    "                    else:\n",
    "                        self.implement_onequibt_paramgate(total_tokens[counter][0], param,(globals()[total_tokens[counter][4]]),index)\n",
    "                        self.gate_sequence.append([total_tokens[counter][0], param, total_tokens[counter][4], index])\n",
    "                else:\n",
    "                    index = 0\n",
    "                    self.implement_onequibt_paramgate(total_tokens[counter][0], param,(globals()[total_tokens[counter][4]]),index)\n",
    "                    self.gate_sequence.append([total_tokens[counter][0], param, total_tokens[counter][4], index])\n",
    "                    \n",
    "            elif((total_tokens[counter][0] == 'cx') | (total_tokens[counter][0] == 'swap')):\n",
    "                if(self.quantum_circuit == None):\n",
    "                    self.create_quantum_circuit()\n",
    "                    \n",
    "                qreg1 = total_tokens[counter][1]\n",
    "                if(total_tokens[counter][2] == '['):\n",
    "                    index_qreg1 = int(total_tokens[counter][3])\n",
    "                    if(index_qreg1 >= int(self.VARIABLE[qreg1])):\n",
    "                        self.error = IllegalCharError('index out of bound')\n",
    "                else:\n",
    "                    index_qreg1 = 0 \n",
    "                \n",
    "                if(total_tokens[counter][2] == '['): \n",
    "                    index_vareg2 = 6\n",
    "                else: \n",
    "                    index_vareg2 = 3\n",
    "                    \n",
    "                qreg2 = total_tokens[counter][index_vareg2]\n",
    "                if(total_tokens[counter][index_vareg2+1] == '['):\n",
    "                    index_qreg2 = int(total_tokens[counter][index_vareg2+2])\n",
    "                    if(index_qreg2 >= int(self.VARIABLE[qreg2])):\n",
    "                        self.error = IllegalCharError('index out of bound')\n",
    "                else:\n",
    "                    index_qreg2 = 0\n",
    "                self.implement_twoquibt_gate((total_tokens[counter][0]),(globals()[qreg1]),index_qreg1,(globals()[qreg2]),index_qreg2)\n",
    "                self.gate_sequence.append([total_tokens[counter][0], qreg1 ,index_qreg1, qreg2, index_qreg2])\n",
    "                \n",
    "            elif((total_tokens[counter][0] == 'ccx') | (total_tokens[counter][0] == 'cswap')):\n",
    "                if(self.quantum_circuit == None):\n",
    "                    self.create_quantum_circuit()\n",
    "                ##qreg1_index1\n",
    "                qreg1 = total_tokens[counter][1]\n",
    "                if(total_tokens[counter][2] == '['):\n",
    "                    index_qreg1 = int(total_tokens[counter][3])\n",
    "                    if(index_qreg1 >= int(self.VARIABLE[qreg1])):\n",
    "                        self.error = IllegalCharError('index out of bound')\n",
    "                else:\n",
    "                    index_qreg1 = 0 \n",
    "                \n",
    "                ##qreg2_index2\n",
    "                if(total_tokens[counter][2] == '['): \n",
    "                    index_vareg2 = 6\n",
    "                else: \n",
    "                    index_vareg2 = 3\n",
    "                    \n",
    "                qreg2 = total_tokens[counter][index_vareg2]\n",
    "                if(total_tokens[counter][index_vareg2+1] == '['):\n",
    "                    index_qreg2 = int(total_tokens[counter][index_vareg2+2])\n",
    "                    if(index_qreg2 >= int(self.VARIABLE[qreg2])):\n",
    "                        self.error = IllegalCharError('index out of bound')\n",
    "                else:\n",
    "                    index_qreg2 = 0\n",
    "                \n",
    "                ##qreg3_index3\n",
    "                if((total_tokens[counter][2] != '[') & (total_tokens[counter][index_vareg2 +1] != '[')):\n",
    "                    index_vareg3 = 5\n",
    "                elif((total_tokens[counter][2] == '[') & (total_tokens[counter][index_vareg2 +1] == '[')):\n",
    "                    index_vareg3 = 11\n",
    "                else:\n",
    "                    index_vareg3 = 8\n",
    "                qreg3 = total_tokens[counter][index_vareg3]\n",
    "                if(total_tokens[counter][index_vareg3+1] == '['):\n",
    "                    index_qreg3 = int(total_tokens[counter][index_vareg3+2])\n",
    "                    if(index_qreg3 >= int(self.VARIABLE[qreg3])):\n",
    "                        self.error = IllegalCharError('index out of bound')\n",
    "                else:\n",
    "                    index_qreg3 = 0                \n",
    "                self.implement_threequibt_gate((total_tokens[counter][0]),(globals()[qreg1]),index_qreg1,(globals()[qreg2]),index_qreg2,(globals()[qreg3]),index_qreg3)\n",
    "                self.gate_sequence.append([total_tokens[counter][0], qreg1 ,index_qreg1, qreg2, index_qreg2, qreg3, index_qreg3])"
   ]
  },
  {
   "cell_type": "code",
   "execution_count": 57,
   "id": "51fa8691",
   "metadata": {},
   "outputs": [
    {
     "name": "stdout",
     "output_type": "stream",
     "text": [
      "float[32] beta = 16;\n",
      "\n",
      "float[32] theta = pi;\n",
      "\n",
      "float[32] gamma = 64;\n",
      "\n",
      "qubit input;\n",
      "\n",
      "qubit input1;\n",
      "\n",
      "qubit input3;\n",
      "\n",
      "qubit[2] ancilla;\n",
      "\n",
      "qubit[3] ancilla1;\n",
      "\n",
      "x input;\n",
      "\n",
      "y input;\n",
      "\n",
      "rx(theta) ancilla[0];\n",
      "\n",
      "y input3;\n",
      "\n",
      "rz(-gamma) input;\n",
      "\n",
      "cx ancilla[0], ancilla1[1];\n",
      "\n",
      "z input1;\n",
      "\n",
      "cswap ancilla1[2], input, ancilla[1];\n",
      "\n",
      "s ancilla1[2];\n",
      "\n",
      "ccx input, input1, input3;\n",
      "\n",
      "t ancilla[0];\n"
     ]
    }
   ],
   "source": [
    "# Read the file\n",
    "f = open(\"test\\\\input.txt\", \"r\")\n",
    "for x in f:\n",
    "    print(x)"
   ]
  },
  {
   "cell_type": "code",
   "execution_count": 58,
   "id": "627af5c7",
   "metadata": {},
   "outputs": [
    {
     "name": "stdout",
     "output_type": "stream",
     "text": [
      "['float', '[', '32', ']', 'beta', '=', '16', ';', '\\n']\n",
      "['float', '[', '32', ']', 'theta', '=', '3.141592653589793', ';', '\\n']\n",
      "['float', '[', '32', ']', 'gamma', '=', '64', ';', '\\n']\n",
      "['qubit', 'input', ';', '\\n']\n",
      "['qubit', 'input1', ';', '\\n']\n",
      "['qubit', 'input3', ';', '\\n']\n",
      "['qubit', '[', '2', ']', 'ancilla', ';', '\\n']\n",
      "['qubit', '[', '3', ']', 'ancilla1', ';', '\\n']\n",
      "['x', 'input', ';', '\\n']\n",
      "['y', 'input', ';', '\\n']\n",
      "['rx', '(', 'theta', ')', 'ancilla', '[', '0', ']', ';', '\\n']\n",
      "['y', 'input3', ';', '\\n']\n",
      "['rz', '(', '-', 'gamma', ')', 'input', ';', '\\n']\n",
      "['cx', 'ancilla', '[', '0', ']', ',', 'ancilla1', '[', '1', ']', ';', '\\n']\n",
      "['z', 'input1', ';', '\\n']\n",
      "['cswap', 'ancilla1', '[', '2', ']', ',', 'input', ',', 'ancilla', '[', '1', ']', ';', '\\n']\n",
      "['s', 'ancilla1', '[', '2', ']', ';', '\\n']\n",
      "['ccx', 'input', ',', 'input1', ',', 'input3', ';', '\\n']\n",
      "['t', 'ancilla', '[', '0', ']', ';']\n"
     ]
    }
   ],
   "source": [
    "# An example of the interpreter\n",
    "f = open(\"test\\\\input.txt\", \"r\")\n",
    "total_tokens = []\n",
    "number_of_var = 0\n",
    "for x in f:\n",
    "    mode = syntax_checking(x)\n",
    "    tokens, error = run_lexer(x, mode)\n",
    "    if(error): \n",
    "        print(error.as_string())\n",
    "        break\n",
    "    print(tokens)\n",
    "    total_tokens.append(tokens)\n",
    "inte = interpreter(total_tokens)\n",
    "inte.process() \n",
    "if(inte.error != None):\n",
    "    print(inte.error.as_string())"
   ]
  },
  {
   "cell_type": "code",
   "execution_count": 59,
   "id": "cb55e840",
   "metadata": {},
   "outputs": [
    {
     "data": {
      "text/plain": [
       "{'beta': '32', 'theta': '32', 'gamma': '32'}"
      ]
     },
     "execution_count": 59,
     "metadata": {},
     "output_type": "execute_result"
    }
   ],
   "source": [
    "inte.NORMAL_VARIABLE"
   ]
  },
  {
   "cell_type": "code",
   "execution_count": 60,
   "id": "692e67ef",
   "metadata": {},
   "outputs": [
    {
     "data": {
      "text/plain": [
       "{'input': 1, 'input1': 1, 'input3': 1, 'ancilla': '2', 'ancilla1': '3'}"
      ]
     },
     "execution_count": 60,
     "metadata": {},
     "output_type": "execute_result"
    }
   ],
   "source": [
    "inte.VARIABLE"
   ]
  },
  {
   "cell_type": "code",
   "execution_count": 61,
   "id": "be8fee98",
   "metadata": {},
   "outputs": [
    {
     "data": {
      "text/plain": [
       "[['x', 'input', 0],\n",
       " ['y', 'input', 0],\n",
       " ['rx', 3.141592653589793, 'ancilla', 0],\n",
       " ['y', 'input3', 0],\n",
       " ['rz', -64.0, 'input', 0],\n",
       " ['cx', 'ancilla', 0, 'ancilla1', 1],\n",
       " ['z', 'input1', 0],\n",
       " ['cswap', 'ancilla1', 2, 'input', 0, 'ancilla', 1],\n",
       " ['s', 'ancilla1', 2],\n",
       " ['ccx', 'input', 0, 'input1', 0, 'input3', 0],\n",
       " ['t', 'ancilla', 0]]"
      ]
     },
     "execution_count": 61,
     "metadata": {},
     "output_type": "execute_result"
    }
   ],
   "source": [
    "inte.gate_sequence"
   ]
  },
  {
   "cell_type": "code",
   "execution_count": 62,
   "id": "308b5a01",
   "metadata": {},
   "outputs": [
    {
     "data": {
      "text/html": [
       "<pre style=\"word-wrap: normal;white-space: pre;background: #fff0;line-height: 1.1;font-family: &quot;Courier New&quot;,Courier,monospace\">      ┌───┐  ┌───┐┌─────────┐        \n",
       "_0: ──┤ X ├──┤ Y ├┤ Rz(-64) ├─X───■──\n",
       "      ├───┤  └───┘└─────────┘ │   │  \n",
       "_1: ──┤ Z ├───────────────────┼───■──\n",
       "      ├───┤                   │ ┌─┴─┐\n",
       "_2: ──┤ Y ├───────────────────┼─┤ X ├\n",
       "    ┌─┴───┴─┐        ┌───┐    │ └───┘\n",
       "_3: ┤ Rx(π) ├──■─────┤ T ├────┼──────\n",
       "    └───────┘  │     └───┘    │      \n",
       "_4: ───────────┼──────────────X──────\n",
       "               │              │      \n",
       "_5: ───────────┼──────────────┼──────\n",
       "             ┌─┴─┐            │      \n",
       "_6: ─────────┤ X ├────────────┼──────\n",
       "             └───┘            │ ┌───┐\n",
       "_7: ──────────────────────────■─┤ S ├\n",
       "                                └───┘</pre>"
      ],
      "text/plain": [
       "      ┌───┐  ┌───┐┌─────────┐        \n",
       "_0: ──┤ X ├──┤ Y ├┤ Rz(-64) ├─X───■──\n",
       "      ├───┤  └───┘└─────────┘ │   │  \n",
       "_1: ──┤ Z ├───────────────────┼───■──\n",
       "      ├───┤                   │ ┌─┴─┐\n",
       "_2: ──┤ Y ├───────────────────┼─┤ X ├\n",
       "    ┌─┴───┴─┐        ┌───┐    │ └───┘\n",
       "_3: ┤ Rx(π) ├──■─────┤ T ├────┼──────\n",
       "    └───────┘  │     └───┘    │      \n",
       "_4: ───────────┼──────────────X──────\n",
       "               │              │      \n",
       "_5: ───────────┼──────────────┼──────\n",
       "             ┌─┴─┐            │      \n",
       "_6: ─────────┤ X ├────────────┼──────\n",
       "             └───┘            │ ┌───┐\n",
       "_7: ──────────────────────────■─┤ S ├\n",
       "                                └───┘"
      ]
     },
     "execution_count": 62,
     "metadata": {},
     "output_type": "execute_result"
    }
   ],
   "source": [
    "inte.quantum_circuit.draw()"
   ]
  },
  {
   "cell_type": "code",
   "execution_count": 63,
   "id": "a8968be2",
   "metadata": {},
   "outputs": [
    {
     "data": {
      "text/html": [
       "<pre style=\"word-wrap: normal;white-space: pre;background: #fff0;line-height: 1.1;font-family: &quot;Courier New&quot;,Courier,monospace\">              ┌────────┐  ┌───┐   ┌───┐\n",
       "_0: ───■────X─┤ Rz(64) ├──┤ Y ├───┤ X ├\n",
       "       │    │ └─┬───┬──┘  └───┘   └───┘\n",
       "_1: ───■────┼───┤ Z ├──────────────────\n",
       "     ┌─┴─┐  │   ├───┤                  \n",
       "_2: ─┤ X ├──┼───┤ Y ├──────────────────\n",
       "    ┌┴───┴┐ │   └───┘   ┌────────┐     \n",
       "_3: ┤ Tdg ├─┼─────■─────┤ Rx(-π) ├─────\n",
       "    └─────┘ │     │     └────────┘     \n",
       "_4: ────────X─────┼────────────────────\n",
       "            │     │                    \n",
       "_5: ────────┼─────┼────────────────────\n",
       "            │   ┌─┴─┐                  \n",
       "_6: ────────┼───┤ X ├──────────────────\n",
       "    ┌─────┐ │   └───┘                  \n",
       "_7: ┤ Sdg ├─■──────────────────────────\n",
       "    └─────┘                            </pre>"
      ],
      "text/plain": [
       "              ┌────────┐  ┌───┐   ┌───┐\n",
       "_0: ───■────X─┤ Rz(64) ├──┤ Y ├───┤ X ├\n",
       "       │    │ └─┬───┬──┘  └───┘   └───┘\n",
       "_1: ───■────┼───┤ Z ├──────────────────\n",
       "     ┌─┴─┐  │   ├───┤                  \n",
       "_2: ─┤ X ├──┼───┤ Y ├──────────────────\n",
       "    ┌┴───┴┐ │   └───┘   ┌────────┐     \n",
       "_3: ┤ Tdg ├─┼─────■─────┤ Rx(-π) ├─────\n",
       "    └─────┘ │     │     └────────┘     \n",
       "_4: ────────X─────┼────────────────────\n",
       "            │     │                    \n",
       "_5: ────────┼─────┼────────────────────\n",
       "            │   ┌─┴─┐                  \n",
       "_6: ────────┼───┤ X ├──────────────────\n",
       "    ┌─────┐ │   └───┘                  \n",
       "_7: ┤ Sdg ├─■──────────────────────────\n",
       "    └─────┘                            "
      ]
     },
     "execution_count": 63,
     "metadata": {},
     "output_type": "execute_result"
    }
   ],
   "source": [
    "# inverse quantum circuit\n",
    "inte.implement_inverse_quantum_circuit()\n",
    "inte.inverse_quantum_circuit.draw()"
   ]
  },
  {
   "cell_type": "markdown",
   "id": "13b1a78c",
   "metadata": {},
   "source": [
    "# Reference\n",
    "\n",
    "*  https://arxiv.org/pdf/2104.14722.pdf\n",
    "*  https://qiskit.github.io/openqasm/index.html\n",
    "*  https://github.com/Qiskit/openqasm\n",
    "*  https://qiskit.org/documentation/"
   ]
  },
  {
   "cell_type": "markdown",
   "id": "95cca5ce",
   "metadata": {},
   "source": [
    "## Additional information\n",
    "\n",
    "**Created by:** Bao Bach\n",
    "\n",
    "**Email**: bao.bachbbace12@hcmut.edu.vn\n",
    "\n",
    "**Version:** 1.0.0"
   ]
  }
 ],
 "metadata": {
  "kernelspec": {
   "display_name": "Python 3",
   "language": "python",
   "name": "python3"
  },
  "language_info": {
   "codemirror_mode": {
    "name": "ipython",
    "version": 3
   },
   "file_extension": ".py",
   "mimetype": "text/x-python",
   "name": "python",
   "nbconvert_exporter": "python",
   "pygments_lexer": "ipython3",
   "version": "3.8.3"
  }
 },
 "nbformat": 4,
 "nbformat_minor": 5
}
